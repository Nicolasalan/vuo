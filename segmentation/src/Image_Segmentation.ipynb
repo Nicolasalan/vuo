{
  "cells": [
    {
      "cell_type": "markdown",
      "metadata": {
        "id": "view-in-github",
        "colab_type": "text"
      },
      "source": [
        "<a href=\"https://colab.research.google.com/github/Nicolasalan/Color-segmentation/blob/main/Image_Segmentation.ipynb\" target=\"_parent\"><img src=\"https://colab.research.google.com/assets/colab-badge.svg\" alt=\"Open In Colab\"/></a>"
      ]
    },
    {
      "cell_type": "code",
      "execution_count": null,
      "metadata": {
        "colab": {
          "background_save": true
        },
        "id": "YC4hSZUTOaJJ"
      },
      "outputs": [],
      "source": [
        "import cv2\n",
        "import numpy as np\n",
        "import matplotlib.pyplot as plt\n",
        "%matplotlib inline"
      ]
    },
    {
      "cell_type": "code",
      "execution_count": null,
      "metadata": {
        "colab": {
          "background_save": true
        },
        "id": "z6XPmiOwO_W7"
      },
      "outputs": [],
      "source": [
        "img = cv2.imread('caminho da imagem.jpg')\n",
        "img2 = cv2.cvtColor(img, cv2.COLOR_BGR2RGB)\n",
        "\n",
        "# Converte BGR para HSV\n",
        "hsv = cv2.cvtColor(img, cv2.COLOR_BGR2HSV)\n",
        "\n",
        "lower = np.array([90,100,50])   # limite inferior\n",
        "upper = np.array([110,255,255]) # limite superior\n",
        "\n",
        "# Threshold do HSV para obter apenas a mascara da cor determinada pelos limites do range\n",
        "mask = cv2.inRange(hsv, lower, upper)\n",
        "\n",
        "# Operação Bitwise-AND : Faz um AND entre os pixeis da mascara e a imagem original.\n",
        "res = cv2.bitwise_and(img,img, mask= mask)\n",
        "\n",
        "plt.figure(figsize=(14,14))\n",
        "plt.subplot(131);plt.imshow(img2)\n",
        "plt.subplot(132);plt.imshow(mask, cmap='gray', vmin=0, vmax=255)\n",
        "plt.subplot(133);plt.imshow(cv2.cvtColor(res, cv2.COLOR_BGR2RGB))"
      ]
    }
  ],
  "metadata": {
    "colab": {
      "name": "Image Segmentation.ipynb",
      "provenance": [],
      "authorship_tag": "ABX9TyNYcZ0ciK64x03eaux/I5t9",
      "include_colab_link": true
    },
    "kernelspec": {
      "display_name": "Python 3",
      "name": "python3"
    },
    "language_info": {
      "name": "python"
    }
  },
  "nbformat": 4,
  "nbformat_minor": 0
}